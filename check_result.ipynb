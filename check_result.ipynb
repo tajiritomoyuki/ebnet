{
 "cells": [
  {
   "cell_type": "code",
   "execution_count": 28,
   "metadata": {},
   "outputs": [],
   "source": [
    "import os\n",
    "import glob\n",
    "import numpy as np\n",
    "import pandas as pd\n",
    "import matplotlib.pyplot as plt\n",
    "\n",
    "from sklearn.metrics import confusion_matrix, recall_score\n",
    "\n",
    "from keras.models import load_model\n",
    "\n",
    "from settings import *\n",
    "import eb_models\n",
    "from preprocessing import load_npz, make_dataset, normalize"
   ]
  },
  {
   "cell_type": "code",
   "execution_count": 2,
   "metadata": {},
   "outputs": [],
   "source": [
    "cut_len = 1024"
   ]
  },
  {
   "cell_type": "code",
   "execution_count": 36,
   "metadata": {},
   "outputs": [],
   "source": [
    "h5list = sorted(glob.glob(os.path.join(modeldir, \"16*5_?.h5\")))"
   ]
  },
  {
   "cell_type": "code",
   "execution_count": 37,
   "metadata": {},
   "outputs": [],
   "source": [
    "data0_list = []\n",
    "data1_list = []\n",
    "for sector in [1, 2, 3, 5]:\n",
    "    npzpath0 = os.path.join(datdir, \"%s_0.npz\" % sector)\n",
    "    npzpath1 = os.path.join(datdir, \"%s_1.npz\" % sector)\n",
    "    data1 = load_npz(npzpath1)\n",
    "#     data0 = load_npz(npzpath0)[:data1.shape[0]]\n",
    "    data0 = load_npz(npzpath0)[:]\n",
    "    data0 = make_dataset(data0, cut_len)\n",
    "    data1 = make_dataset(data1, cut_len)\n",
    "    data0_list.append(data0)\n",
    "    data1_list.append(data1)\n",
    "data0 = np.vstack(tuple(data0_list))\n",
    "data1 = np.vstack(tuple(data1_list))\n",
    "label0 = np.zeros(data0.shape[0])\n",
    "label1 = np.ones(data1.shape[0])\n",
    "data = np.vstack((data0, data1))\n",
    "label = np.hstack((label0, label1))\n",
    "data = normalize(data)"
   ]
  },
  {
   "cell_type": "code",
   "execution_count": 38,
   "metadata": {},
   "outputs": [],
   "source": [
    "data = np.reshape(data, (data.shape[0], data.shape[1], 1))\n",
    "label = np.reshape(label, (label.shape[0], 1))\n",
    "data1 = np.reshape(data1, (data1.shape[0], data1.shape[1], 1))\n",
    "label1 = np.reshape(label1, (label1.shape[0], 1))"
   ]
  },
  {
   "cell_type": "code",
   "execution_count": 39,
   "metadata": {},
   "outputs": [
    {
     "name": "stdout",
     "output_type": "stream",
     "text": [
      "115894 2498 1616 10292 16_16_32_5_0.h5\n",
      "116052 2340 1480 10428 16_16_32_5_1.h5\n",
      "114288 4104 1112 10796 16_16_32_5_2.h5\n",
      "115674 2718 708 11200 16_16_32_5_3.h5\n",
      "113084 5308 1056 10852 16_16_64_5_0.h5\n",
      "114900 3492 770 11138 16_16_64_5_1.h5\n",
      "114880 3512 1030 10878 16_16_64_5_2.h5\n",
      "114266 4126 610 11298 16_16_64_5_3.h5\n",
      "113240 5152 1156 10752 16_32_32_5_0.h5\n",
      "116786 1606 1016 10892 16_32_32_5_1.h5\n",
      "113742 4650 1000 10908 16_32_32_5_2.h5\n",
      "114746 3646 666 11242 16_32_32_5_3.h5\n",
      "113662 4730 950 10958 16_32_64_5_0.h5\n",
      "113180 5212 624 11284 16_32_64_5_1.h5\n",
      "111726 6666 848 11060 16_32_64_5_2.h5\n",
      "115440 2952 784 11124 16_32_64_5_3.h5\n"
     ]
    }
   ],
   "source": [
    "# , custom_objects={\"class_name\": class_name}\n",
    "for h5path in h5list:\n",
    "    model = load_model(h5path, compile=True)\n",
    "#     score = model.evaluate(data, label, verbose=0)\n",
    "    pred = np.round(model.predict(data))\n",
    "    tp, fn, fp, tn = confusion_matrix(label, pred).ravel()\n",
    "    print(tp, fn, fp, tn, os.path.basename(h5path))"
   ]
  },
  {
   "cell_type": "code",
   "execution_count": null,
   "metadata": {},
   "outputs": [],
   "source": []
  }
 ],
 "metadata": {
  "kernelspec": {
   "display_name": "Python 3",
   "language": "python",
   "name": "python3"
  },
  "language_info": {
   "codemirror_mode": {
    "name": "ipython",
    "version": 3
   },
   "file_extension": ".py",
   "mimetype": "text/x-python",
   "name": "python",
   "nbconvert_exporter": "python",
   "pygments_lexer": "ipython3",
   "version": "3.7.3"
  }
 },
 "nbformat": 4,
 "nbformat_minor": 2
}
