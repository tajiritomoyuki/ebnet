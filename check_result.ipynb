{
 "cells": [
  {
   "cell_type": "code",
   "execution_count": 1,
   "metadata": {},
   "outputs": [
    {
     "name": "stderr",
     "output_type": "stream",
     "text": [
      "Using TensorFlow backend.\n"
     ]
    },
    {
     "name": "stdout",
     "output_type": "stream",
     "text": [
      "WARNING:tensorflow:From C:\\ProgramData\\Anaconda3\\lib\\site-packages\\tensorflow\\python\\framework\\op_def_library.py:263: colocate_with (from tensorflow.python.framework.ops) is deprecated and will be removed in a future version.\n",
      "Instructions for updating:\n",
      "Colocations handled automatically by placer.\n"
     ]
    }
   ],
   "source": [
    "import os\n",
    "import glob\n",
    "import numpy as np\n",
    "import pandas as pd\n",
    "import matplotlib.pyplot as plt\n",
    "\n",
    "from keras.models import load_model\n",
    "\n",
    "from settings import *\n",
    "import eb_models\n",
    "from preprocessing import load_npz, make_dataset, normalize"
   ]
  },
  {
   "cell_type": "code",
   "execution_count": 2,
   "metadata": {},
   "outputs": [],
   "source": [
    "cut_len = 1024"
   ]
  },
  {
   "cell_type": "code",
   "execution_count": 3,
   "metadata": {},
   "outputs": [],
   "source": [
    "h5list = glob.glob(os.path.join(modeldir, \"*.h5\"))"
   ]
  },
  {
   "cell_type": "code",
   "execution_count": 4,
   "metadata": {},
   "outputs": [],
   "source": [
    "data0_list = []\n",
    "data1_list = []\n",
    "for sector in [1, 2, 3, 5]:\n",
    "    npzpath0 = os.path.join(datdir, \"%s_0.npz\" % sector)\n",
    "    npzpath1 = os.path.join(datdir, \"%s_1.npz\" % sector)\n",
    "    data1 = load_npz(npzpath1)\n",
    "    data0 = load_npz(npzpath0)[:data1.shape[0]]\n",
    "    data0 = make_dataset(data0, cut_len)\n",
    "    data1 = make_dataset(data1, cut_len)\n",
    "    data0_list.append(data0)\n",
    "    data1_list.append(data1)\n",
    "data0 = np.vstack(tuple(data0_list))\n",
    "data1 = np.vstack(tuple(data1_list))\n",
    "label0 = np.zeros(data0.shape[0])\n",
    "label1 = np.ones(data1.shape[0])\n",
    "data = np.vstack((data0, data1))\n",
    "label = np.hstack((label0, label1))\n",
    "data = normalize(data)"
   ]
  },
  {
   "cell_type": "code",
   "execution_count": 7,
   "metadata": {},
   "outputs": [],
   "source": [
    "data = np.reshape(data, (data.shape[0], data.shape[1], 1))\n",
    "label = np.reshape(label, (label.shape[0], 1))"
   ]
  },
  {
   "cell_type": "code",
   "execution_count": null,
   "metadata": {},
   "outputs": [
    {
     "name": "stdout",
     "output_type": "stream",
     "text": [
      "0.668063103235685 0.5549697493517718 16_16_32_2_0.h5\n",
      "0.1648845201331636 0.9414866032843561 16_16_32_2_1.h5\n"
     ]
    }
   ],
   "source": [
    "# , custom_objects={\"class_name\": class_name}\n",
    "for h5path in h5list:\n",
    "    model = load_model(h5path, compile=True)\n",
    "    score = model.evaluate(data, label, verbose=0)\n",
    "    print(score[0], score[1], os.path.basename(h5path))"
   ]
  },
  {
   "cell_type": "code",
   "execution_count": null,
   "metadata": {},
   "outputs": [],
   "source": []
  }
 ],
 "metadata": {
  "kernelspec": {
   "display_name": "Python 3",
   "language": "python",
   "name": "python3"
  },
  "language_info": {
   "codemirror_mode": {
    "name": "ipython",
    "version": 3
   },
   "file_extension": ".py",
   "mimetype": "text/x-python",
   "name": "python",
   "nbconvert_exporter": "python",
   "pygments_lexer": "ipython3",
   "version": "3.7.1"
  }
 },
 "nbformat": 4,
 "nbformat_minor": 2
}
